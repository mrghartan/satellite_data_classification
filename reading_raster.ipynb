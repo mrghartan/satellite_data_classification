{
 "cells": [
  {
   "cell_type": "markdown",
   "id": "666835ab-d875-4867-8f6f-abf1b7499cae",
   "metadata": {},
   "source": [
    "# Various ways to read sattelite raster images "
   ]
  },
  {
   "cell_type": "markdown",
   "id": "29ebc247-6835-4361-b8b4-eb2296228d68",
   "metadata": {},
   "source": [
    "### Rasterio"
   ]
  },
  {
   "cell_type": "code",
   "execution_count": 1,
   "id": "953e6f32-fc9a-4dbe-99dd-b0351098ea6a",
   "metadata": {},
   "outputs": [],
   "source": [
    "#importing rasterio Library, we are using dataset from \n",
    "import rasterio as rio"
   ]
  },
  {
   "cell_type": "code",
   "execution_count": 5,
   "id": "f1f1b7b6-14f0-4c8d-aa9b-c1acf342b2cf",
   "metadata": {},
   "outputs": [],
   "source": [
    "#open the file from the file location\n",
    "src=rio.open(\"IL.2001155.Powell.20220871535-sur_refl_b01_1.tif\")"
   ]
  },
  {
   "cell_type": "code",
   "execution_count": 6,
   "id": "3fbd5dae-ca23-4dc6-b08d-6267425fb0e0",
   "metadata": {},
   "outputs": [
    {
     "data": {
      "text/plain": [
       "array([[[1547, 1474, 1474, ..., 3151, 3151, 3087],\n",
       "        [1395, 1395, 1379, ..., 3323, 3323, 3148],\n",
       "        [1408, 1403, 1379, ..., 3223, 3223, 3203],\n",
       "        ...,\n",
       "        [2196, 2186, 2255, ..., 2193, 2253, 2230],\n",
       "        [2186, 2255, 2341, ..., 2154, 2235, 2217],\n",
       "        [2320, 2439, 2169, ..., 2358, 2425, 2402]]], dtype=int16)"
      ]
     },
     "execution_count": 6,
     "metadata": {},
     "output_type": "execute_result"
    }
   ],
   "source": [
    "#using read command we can convert the file to an array\n",
    "src.read()"
   ]
  },
  {
   "cell_type": "code",
   "execution_count": 9,
   "id": "2a33eb39-5baf-43d4-9e19-3ba41bfecd84",
   "metadata": {},
   "outputs": [
    {
     "data": {
      "text/plain": [
       "CRS.from_wkt('PROJCS[\"unnamed\",GEOGCS[\"Unknown datum based upon the custom spheroid\",DATUM[\"Not_specified_based_on_custom_spheroid\",SPHEROID[\"Custom spheroid\",6371007.181,0]],PRIMEM[\"Greenwich\",0],UNIT[\"degree\",0.0174532925199433,AUTHORITY[\"EPSG\",\"9122\"]]],PROJECTION[\"Sinusoidal\"],PARAMETER[\"longitude_of_center\",0],PARAMETER[\"false_easting\",0],PARAMETER[\"false_northing\",0],UNIT[\"metre\",1,AUTHORITY[\"EPSG\",\"9001\"]],AXIS[\"Easting\",EAST],AXIS[\"Northing\",NORTH]]')"
      ]
     },
     "execution_count": 9,
     "metadata": {},
     "output_type": "execute_result"
    }
   ],
   "source": [
    "# to get CRS info we can use this command\n",
    "src.crs"
   ]
  },
  {
   "cell_type": "markdown",
   "id": "5c1af6ce-8f68-4a1c-9778-5095c88a932b",
   "metadata": {},
   "source": [
    "### Gdal\n"
   ]
  },
  {
   "cell_type": "code",
   "execution_count": 11,
   "id": "ba22e974-481b-49e5-b4f5-e247b6c928ce",
   "metadata": {},
   "outputs": [],
   "source": [
    "# to laod file using Gdal\n",
    "from osgeo import gdal"
   ]
  },
  {
   "cell_type": "code",
   "execution_count": 13,
   "id": "c50fcb8f-c711-4d11-a507-4c3311518db0",
   "metadata": {},
   "outputs": [],
   "source": [
    "src=gdal.Open(\"IL.2001155.Powell.20220871535-sur_refl_b01_1.tif\")"
   ]
  },
  {
   "cell_type": "code",
   "execution_count": 14,
   "id": "e52f5bf3-dbbd-4fcb-a913-046bfc911d4b",
   "metadata": {},
   "outputs": [
    {
     "data": {
      "text/plain": [
       "array([[1547, 1474, 1474, ..., 3151, 3151, 3087],\n",
       "       [1395, 1395, 1379, ..., 3323, 3323, 3148],\n",
       "       [1408, 1403, 1379, ..., 3223, 3223, 3203],\n",
       "       ...,\n",
       "       [2196, 2186, 2255, ..., 2193, 2253, 2230],\n",
       "       [2186, 2255, 2341, ..., 2154, 2235, 2217],\n",
       "       [2320, 2439, 2169, ..., 2358, 2425, 2402]], dtype=int16)"
      ]
     },
     "execution_count": 14,
     "metadata": {},
     "output_type": "execute_result"
    }
   ],
   "source": [
    "src.ReadAsArray()"
   ]
  },
  {
   "cell_type": "code",
   "execution_count": 17,
   "id": "ff0a2c8c-93c9-40ed-a591-db2853a80608",
   "metadata": {},
   "outputs": [
    {
     "data": {
      "text/plain": [
       "'PROJCS[\"unnamed\",GEOGCS[\"Unknown datum based upon the custom spheroid\",DATUM[\"Not_specified_based_on_custom_spheroid\",SPHEROID[\"Custom spheroid\",6371007.181,0]],PRIMEM[\"Greenwich\",0],UNIT[\"degree\",0.0174532925199433,AUTHORITY[\"EPSG\",\"9122\"]]],PROJECTION[\"Sinusoidal\"],PARAMETER[\"longitude_of_center\",0],PARAMETER[\"false_easting\",0],PARAMETER[\"false_northing\",0],UNIT[\"metre\",1,AUTHORITY[\"EPSG\",\"9001\"]],AXIS[\"Easting\",EAST],AXIS[\"Northing\",NORTH]]'"
      ]
     },
     "execution_count": 17,
     "metadata": {},
     "output_type": "execute_result"
    }
   ],
   "source": [
    "#getting projection info in Gdal\n",
    "src.GetProjection()"
   ]
  },
  {
   "cell_type": "markdown",
   "id": "5de4bbc1-c84b-4f7c-9c0d-8e1f55444e81",
   "metadata": {},
   "source": [
    "### openCV"
   ]
  },
  {
   "cell_type": "code",
   "execution_count": 19,
   "id": "f76fb7ed-d287-4b9d-abbd-707a33487e44",
   "metadata": {},
   "outputs": [],
   "source": [
    "# loading file using openCV\n",
    "import cv2"
   ]
  },
  {
   "cell_type": "code",
   "execution_count": 23,
   "id": "c116ee17-5c53-44dc-a7f3-2982e8c1ace0",
   "metadata": {},
   "outputs": [
    {
     "data": {
      "text/plain": [
       "array([[1547, 1474, 1474, ..., 3151, 3151, 3087],\n",
       "       [1395, 1395, 1379, ..., 3323, 3323, 3148],\n",
       "       [1408, 1403, 1379, ..., 3223, 3223, 3203],\n",
       "       ...,\n",
       "       [2196, 2186, 2255, ..., 2193, 2253, 2230],\n",
       "       [2186, 2255, 2341, ..., 2154, 2235, 2217],\n",
       "       [2320, 2439, 2169, ..., 2358, 2425, 2402]], dtype=uint16)"
      ]
     },
     "execution_count": 23,
     "metadata": {},
     "output_type": "execute_result"
    }
   ],
   "source": [
    "#we have to laod usinf cv2.IMREAD_LOAD_GDAL\n",
    "cv2.imread(\"IL.2001155.Powell.20220871535-sur_refl_b01_1.tif\", cv2.IMREAD_LOAD_GDAL)"
   ]
  },
  {
   "cell_type": "markdown",
   "id": "f8a631ea-fa62-44da-ace0-e04de4068b1d",
   "metadata": {},
   "source": [
    "### PIL"
   ]
  },
  {
   "cell_type": "code",
   "execution_count": 28,
   "id": "2df60ede-e864-4cbb-870a-43a2649b4085",
   "metadata": {},
   "outputs": [],
   "source": [
    "from PIL import Image\n",
    "import numpy as np"
   ]
  },
  {
   "cell_type": "code",
   "execution_count": 27,
   "id": "b5b695b1-f041-4e16-82fc-15049411b28e",
   "metadata": {},
   "outputs": [],
   "source": [
    "src=Image.open(\"IL.2001155.Powell.20220871535-sur_refl_b01_1.tif\")"
   ]
  },
  {
   "cell_type": "code",
   "execution_count": 30,
   "id": "4398170d-d932-4706-89a9-cbf55ec7ead7",
   "metadata": {},
   "outputs": [
    {
     "data": {
      "text/plain": [
       "array([[1547, 1474, 1474, ..., 3151, 3151, 3087],\n",
       "       [1395, 1395, 1379, ..., 3323, 3323, 3148],\n",
       "       [1408, 1403, 1379, ..., 3223, 3223, 3203],\n",
       "       ...,\n",
       "       [2196, 2186, 2255, ..., 2193, 2253, 2230],\n",
       "       [2186, 2255, 2341, ..., 2154, 2235, 2217],\n",
       "       [2320, 2439, 2169, ..., 2358, 2425, 2402]])"
      ]
     },
     "execution_count": 30,
     "metadata": {},
     "output_type": "execute_result"
    }
   ],
   "source": [
    "# using numpy to covert it to an array\n",
    "np.array(src)"
   ]
  },
  {
   "cell_type": "code",
   "execution_count": null,
   "id": "b796c26b-37e7-4f44-8104-065ec5d9ce91",
   "metadata": {},
   "outputs": [],
   "source": []
  }
 ],
 "metadata": {
  "kernelspec": {
   "display_name": "Python 3 (ipykernel)",
   "language": "python",
   "name": "python3"
  },
  "language_info": {
   "codemirror_mode": {
    "name": "ipython",
    "version": 3
   },
   "file_extension": ".py",
   "mimetype": "text/x-python",
   "name": "python",
   "nbconvert_exporter": "python",
   "pygments_lexer": "ipython3",
   "version": "3.9.7"
  }
 },
 "nbformat": 4,
 "nbformat_minor": 5
}
